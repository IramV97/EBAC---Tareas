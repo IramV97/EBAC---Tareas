{
 "cells": [
  {
   "cell_type": "markdown",
   "metadata": {},
   "source": [
    "• (LAMBDA) Raíz Cuadrada de un Número"
   ]
  },
  {
   "cell_type": "code",
   "execution_count": 8,
   "metadata": {},
   "outputs": [
    {
     "data": {
      "text/plain": [
       "9.0"
      ]
     },
     "execution_count": 8,
     "metadata": {},
     "output_type": "execute_result"
    }
   ],
   "source": [
    "# Sin Utilizar Lambda\n",
    "\n",
    "def raiz(x):\n",
    "    return x ** 0.5\n",
    "\n",
    "raiz(81)"
   ]
  },
  {
   "cell_type": "code",
   "execution_count": 7,
   "metadata": {},
   "outputs": [
    {
     "name": "stdout",
     "output_type": "stream",
     "text": [
      "9.0\n"
     ]
    }
   ],
   "source": [
    "# Utilizando Lambda\n",
    "\n",
    "x = 81\n",
    "\n",
    "print((lambda x: x ** 0.5)(x))"
   ]
  },
  {
   "cell_type": "markdown",
   "metadata": {},
   "source": [
    "• (MAP) Longitud de Cadena de Palabras"
   ]
  },
  {
   "cell_type": "code",
   "execution_count": 24,
   "metadata": {},
   "outputs": [
    {
     "data": {
      "text/plain": [
       "9"
      ]
     },
     "execution_count": 24,
     "metadata": {},
     "output_type": "execute_result"
    }
   ],
   "source": [
    "# Sin Utilizar Map\n",
    "\n",
    "texto = \"Práctica de función map en Python 1 2 34\"\n",
    "\n",
    "def conteo(x):\n",
    "    palabras = x.split()\n",
    "    return len(palabras)\n",
    "\n",
    "largo = conteo(texto)\n",
    "\n",
    "largo"
   ]
  },
  {
   "cell_type": "code",
   "execution_count": 25,
   "metadata": {},
   "outputs": [
    {
     "data": {
      "text/plain": [
       "9"
      ]
     },
     "execution_count": 25,
     "metadata": {},
     "output_type": "execute_result"
    }
   ],
   "source": [
    "# Utilizando Map\n",
    "\n",
    "texto = \"Práctica de función map en Python 1 2 34\"\n",
    "\n",
    "def conteo(x):\n",
    "    return sum(map(lambda word: 1, x.split()))\n",
    "\n",
    "largo = conteo(texto)\n",
    "\n",
    "largo"
   ]
  },
  {
   "cell_type": "markdown",
   "metadata": {},
   "source": [
    "• (REDUCE) Producto de una Lista"
   ]
  },
  {
   "cell_type": "code",
   "execution_count": 45,
   "metadata": {},
   "outputs": [
    {
     "name": "stdout",
     "output_type": "stream",
     "text": [
      "1458\n"
     ]
    }
   ],
   "source": [
    "# Sin Utilizar Reduce\n",
    "\n",
    "nums = [9, 3, 9, 6]\n",
    "\n",
    "def prodcuto(lista):\n",
    "    prod = 1\n",
    "    for num in lst:\n",
    "        prod *= num\n",
    "    return prod\n",
    "\n",
    "product = producto(nums)  \n",
    "\n",
    "print(product)"
   ]
  },
  {
   "cell_type": "code",
   "execution_count": 46,
   "metadata": {},
   "outputs": [
    {
     "name": "stdout",
     "output_type": "stream",
     "text": [
      "1458\n"
     ]
    }
   ],
   "source": [
    "# Utilizando Reduce\n",
    "\n",
    "from functools import reduce\n",
    "\n",
    "nums = [9, 3, 9, 6]\n",
    "\n",
    "def producto(lista):\n",
    "    return reduce((lambda x, y: x * y), lista)\n",
    "\n",
    "product = producto(nums)\n",
    "\n",
    "print(product)"
   ]
  },
  {
   "cell_type": "markdown",
   "metadata": {},
   "source": [
    "• (FILTER) Palabras Mayúsculas en un Listado"
   ]
  },
  {
   "cell_type": "code",
   "execution_count": 54,
   "metadata": {},
   "outputs": [
    {
     "name": "stdout",
     "output_type": "stream",
     "text": [
      "['EBAC', 'Mundo', 'meses12', 'ab123cd']\n"
     ]
    }
   ],
   "source": [
    "\n",
    "palabras = [\"EBAC\", \"hola\", \"Mundo\", \"meses12\", \"ab123cd\", \"abc\"]\n",
    "\n",
    "def filtro(palabras):\n",
    "    lista = []\n",
    "    for palabra in palabras:\n",
    "        if any(char.isupper() or char.isdigit() for char in palabra):\n",
    "            lista.append(palabra)\n",
    "    return lista\n",
    "\n",
    "resultado = filtro(palabras)\n",
    "\n",
    "print(resultado)\n"
   ]
  },
  {
   "cell_type": "code",
   "execution_count": 55,
   "metadata": {},
   "outputs": [
    {
     "name": "stdout",
     "output_type": "stream",
     "text": [
      "['EBAC', 'Mundo', 'meses12', 'ab123cd']\n"
     ]
    }
   ],
   "source": [
    "palabras = [\"EBAC\", \"hola\", \"Mundo\", \"meses12\", \"ab123cd\", \"abc\"]\n",
    "\n",
    "def filtro(lst):\n",
    "    return list(filter(lambda word: any(char.isupper() or char.isdigit() for char in word), lst))\n",
    "\n",
    "\n",
    "resultado = filtro(palabras)\n",
    "print(resultado)\n"
   ]
  }
 ],
 "metadata": {
  "kernelspec": {
   "display_name": "base",
   "language": "python",
   "name": "python3"
  },
  "language_info": {
   "codemirror_mode": {
    "name": "ipython",
    "version": 3
   },
   "file_extension": ".py",
   "mimetype": "text/x-python",
   "name": "python",
   "nbconvert_exporter": "python",
   "pygments_lexer": "ipython3",
   "version": "3.12.4"
  }
 },
 "nbformat": 4,
 "nbformat_minor": 2
}
