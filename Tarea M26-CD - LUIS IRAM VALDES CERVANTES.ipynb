{
 "cells": [
  {
   "cell_type": "markdown",
   "id": "89577f29-926a-430b-ae03-2b6118a872ff",
   "metadata": {},
   "source": [
    "# Iniciamos Instalando el Paquete \"gdown\"\n",
    "### Al ser un archivo de Google Drive, en vez de utilizar \"pip install requests\", usaremos una alternativa específica para Google llamada \"gdown\""
   ]
  },
  {
   "cell_type": "code",
   "execution_count": 73,
   "id": "66269dcc-f71c-4e21-a184-1c8c2f368847",
   "metadata": {},
   "outputs": [
    {
     "name": "stdout",
     "output_type": "stream",
     "text": [
      "Requirement already satisfied: gdown in x:\\anacondapython\\lib\\site-packages (5.2.0)Note: you may need to restart the kernel to use updated packages.\n",
      "\n",
      "Requirement already satisfied: beautifulsoup4 in x:\\anacondapython\\lib\\site-packages (from gdown) (4.12.3)\n",
      "Requirement already satisfied: filelock in x:\\anacondapython\\lib\\site-packages (from gdown) (3.13.1)\n",
      "Requirement already satisfied: requests[socks] in x:\\anacondapython\\lib\\site-packages (from gdown) (2.32.2)\n",
      "Requirement already satisfied: tqdm in x:\\anacondapython\\lib\\site-packages (from gdown) (4.66.4)\n",
      "Requirement already satisfied: soupsieve>1.2 in x:\\anacondapython\\lib\\site-packages (from beautifulsoup4->gdown) (2.5)\n",
      "Requirement already satisfied: charset-normalizer<4,>=2 in x:\\anacondapython\\lib\\site-packages (from requests[socks]->gdown) (2.0.4)\n",
      "Requirement already satisfied: idna<4,>=2.5 in x:\\anacondapython\\lib\\site-packages (from requests[socks]->gdown) (3.7)\n",
      "Requirement already satisfied: urllib3<3,>=1.21.1 in x:\\anacondapython\\lib\\site-packages (from requests[socks]->gdown) (2.2.2)\n",
      "Requirement already satisfied: certifi>=2017.4.17 in x:\\anacondapython\\lib\\site-packages (from requests[socks]->gdown) (2024.8.30)\n",
      "Requirement already satisfied: PySocks!=1.5.7,>=1.5.6 in x:\\anacondapython\\lib\\site-packages (from requests[socks]->gdown) (1.7.1)\n",
      "Requirement already satisfied: colorama in x:\\anacondapython\\lib\\site-packages (from tqdm->gdown) (0.4.6)\n"
     ]
    }
   ],
   "source": [
    "pip install gdown"
   ]
  },
  {
   "cell_type": "code",
   "execution_count": 122,
   "id": "936aa0b8-684e-41da-b46d-18d45efd145e",
   "metadata": {},
   "outputs": [
    {
     "name": "stderr",
     "output_type": "stream",
     "text": [
      "Downloading...\n",
      "From: https://drive.google.com/uc?id=1wh7zXVULlkWlWhhesy7aohgPUdFJ9cn7\n",
      "To: C:\\Users\\Iram Valdés\\Height of Male and Female by Country 2022.csv\n",
      "100%|██████████| 7.64k/7.64k [00:00<00:00, 7.64MB/s]"
     ]
    },
    {
     "name": "stdout",
     "output_type": "stream",
     "text": [
      "\n",
      "\n",
      "Current Working Directory: C:\\Users\\Iram Valdés\n",
      "\n",
      "\n",
      "    Rank                      Country Name  Male Height in Cm  Female Height in Cm  Male Height in Ft  Female Height in Ft\n",
      "0      1                       Netherlands             183.78               170.36               6.03                 5.59\n",
      "1      2                        Montenegro             183.30               169.96               6.01                 5.58\n",
      "2      3                           Estonia             182.79               168.66               6.00                 5.53\n",
      "3      4            Bosnia and Herzegovina             182.47               167.47               5.99                 5.49\n",
      "4      5                           Iceland             182.10               168.91               5.97                 5.54\n",
      "5      6                           Denmark             181.89               169.47               5.97                 5.56\n",
      "6      7                    Czech Republic             181.19               167.96               5.94                 5.51\n",
      "7      8                            Latvia             181.17               168.81               5.94                 5.54\n",
      "8      9                          Slovakia             181.02               167.12               5.94                 5.48\n",
      "9     10                          Slovenia             180.98               167.20               5.94                 5.49\n",
      "10    11                           Ukraine             180.98               166.62               5.94                 5.47\n",
      "11    12                           Croatia             180.76               166.80               5.93                 5.47\n",
      "12    13                            Serbia             180.74               168.29               5.93                 5.52\n",
      "13    14                         Lithuania             180.72               167.63               5.93                 5.50\n",
      "14    15                            Poland             180.69               165.78               5.93                 5.44\n",
      "15    16                           Finland             180.57               166.48               5.92                 5.46\n",
      "16    17                            Norway             180.48               166.45               5.92                 5.46\n",
      "17    18                            Sweden             180.46               166.67               5.92                 5.47\n",
      "18    19                           Germany             180.28               166.18               5.91                 5.45\n",
      "19    20                          Dominica             180.15               166.89               5.91                 5.48\n",
      "20    21                           Bermuda             179.72               166.11               5.90                 5.45\n",
      "21    22                       Puerto Rico             179.48               163.06               5.89                 5.35\n",
      "22    23                            Greece             179.26               165.81               5.88                 5.44\n",
      "23    24                           Belgium             179.09               163.40               5.88                 5.36\n",
      "24    25                           Ireland             179.04               164.50               5.87                 5.40\n",
      "25    26                           Lebanon             178.96               163.67               5.87                 5.37\n",
      "26    27                           Andorra             178.84               165.53               5.87                 5.43\n",
      "27    28               Antigua and Barbuda             178.84               165.72               5.87                 5.44\n",
      "28    29                         Australia             178.77               164.67               5.87                 5.40\n",
      "29    30                            Canada             178.75               164.73               5.86                 5.40\n",
      "30    31                       Switzerland             178.73               164.33               5.86                 5.39\n",
      "31    32                           Grenada             178.70               165.99               5.86                 5.45\n",
      "32    33                           Belarus             178.69               166.93               5.86                 5.48\n",
      "33    34                            France             178.60               164.49               5.86                 5.40\n",
      "34    35                           Austria             178.52               166.93               5.86                 5.48\n",
      "35    36                        Luxembourg             178.46               165.07               5.86                 5.42\n",
      "36    37                      Cook Islands             178.32               167.31               5.85                 5.49\n",
      "37    38                  French Polynesia             178.32               166.52               5.85                 5.46\n",
      "38    39                    United Kingdom             178.21               163.94               5.85                 5.38\n",
      "39    40                           Romania             177.82               164.73               5.83                 5.40\n",
      "40    41                       New Zealand             177.72               164.66               5.83                 5.40\n",
      "41    42  Saint Vincent and the Grenadines             177.49               165.30               5.82                 5.42\n",
      "42    43                              Niue             177.19               167.03               5.81                 5.48\n",
      "43    44                    American Samoa             177.09               167.55               5.81                 5.50\n",
      "44    45                          Barbados             177.03               165.66               5.81                 5.44\n",
      "45    46                           Jamaica             176.97               164.32               5.81                 5.39\n",
      "46    47                     United States             176.94               163.31               5.81                 5.36\n",
      "47    48                           Tunisia             176.85               161.69               5.80                 5.30\n",
      "48    49                            Russia             176.65               164.52               5.80                 5.40\n",
      "49    50                           Hungary             176.59               162.55               5.79                 5.33\n"
     ]
    },
    {
     "name": "stderr",
     "output_type": "stream",
     "text": [
      "\n"
     ]
    }
   ],
   "source": [
    "# Instalamos e Importamos los paquetes y librerías necesarias para realizar el ejercicio\n",
    "\n",
    "import csv\n",
    "import os\n",
    "import gdown\n",
    "import pandas as pd\n",
    "\n",
    "file_id = '1wh7zXVULlkWlWhhesy7aohgPUdFJ9cn7'\n",
    "url = f'https://drive.google.com/uc?id={file_id}'\n",
    "\n",
    "output = 'Height of Male and Female by Country 2022.csv'\n",
    "gdown.download(url, output, quiet=False)\n",
    "\n",
    "# Código para leer y cambiar nuestro Current Working Directory\n",
    "# En este caso no cambiaremos el directorio ya que ya se encuentra en uso el de nuestra preferencia (C:\\Users\\Iram Valdés)\n",
    "dir = os.getcwd()  # cwd = current working directory\n",
    "print(\"\\n\")\n",
    "print(\"Current Working Directory: {0}\".format(dir))\n",
    "print(\"\\n\")\n",
    "# os.chdir(\"/Users/Prueba/ABC/123/EBAC\")\n",
    "\n",
    "\n",
    "# Leemos y convertimos el csv en un dataframe para poder realizar los ejercicios\n",
    "df = pd.read_csv(output)\n",
    "\n",
    "# Tuve que agregar el siguiente código para darle formato a mi tabla ya que esta aparecía truncada\n",
    "pd.set_option('display.max_rows', 500)\n",
    "pd.set_option('display.max_columns', 500)\n",
    "pd.set_option('display.width', 500)\n",
    "\n",
    "# Imprimimos las primeras 50 líneas\n",
    "print(df.head(50))"
   ]
  },
  {
   "cell_type": "code",
   "execution_count": 123,
   "id": "dd94bee7-f1a7-442d-966a-e4bc9b1bfafd",
   "metadata": {},
   "outputs": [
    {
     "name": "stdout",
     "output_type": "stream",
     "text": [
      "De los datos para los HOMBRES, obtenemos una \n",
      " Altura Media  de : 173.53 \n",
      " Altura Mínima de : 160.13 \n",
      " Altura Máxima de : 183.78\n",
      "\n",
      "\n",
      "De los datos para los MUJERES, obtenemos una \n",
      " Altura Media  de : 160.62 \n",
      " Altura Mínima de : 150.91 \n",
      " Altura Máxima de : 170.36\n"
     ]
    }
   ],
   "source": [
    "# Calculamos los valores de media, mínima y máxima altura para HOMBRES\n",
    "Altura_H_Media = df['Male Height in Cm'].median()\n",
    "Altura_H_Min = df['Male Height in Cm'].min()\n",
    "Altura_H_Max = df['Male Height in Cm'].max()\n",
    "\n",
    "# Calculamos los valores de media, mínima y máxima altura para MUJERES\n",
    "Altura_M_Media = df['Female Height in Cm'].median()\n",
    "Altura_M_Min = df['Female Height in Cm'].min()\n",
    "Altura_M_Max = df['Female Height in Cm'].max()\n",
    "\n",
    "# Imprimimos los resultados \n",
    "print(\"De los datos para los HOMBRES, obtenemos una \\n Altura Media  de :\",Altura_H_Media, \n",
    "      \"\\n Altura Mínima de :\", Altura_H_Min, \"\\n Altura Máxima de :\", Altura_H_Max)\n",
    "\n",
    "print(\"\\n\")\n",
    "\n",
    "print(\"De los datos para los MUJERES, obtenemos una \\n Altura Media  de :\",Altura_M_Media, \n",
    "      \"\\n Altura Mínima de :\", Altura_M_Min, \"\\n Altura Máxima de :\", Altura_M_Max)"
   ]
  },
  {
   "cell_type": "code",
   "execution_count": 124,
   "id": "9fd11031-b453-4d5e-8101-e0460dd7ff11",
   "metadata": {},
   "outputs": [
    {
     "name": "stdout",
     "output_type": "stream",
     "text": [
      "     Rank Country Name  Male Height in Cm  Female Height in Cm  Male Height in Ft  Female Height in Ft\n",
      "138   139       Mexico             170.29                157.9               5.59                 5.18\n"
     ]
    }
   ],
   "source": [
    "# Datos de alturas de mi país de origen (México)\n",
    "df_MEX = df[df['Country Name'] == 'Mexico']\n",
    "print(df_MEX)"
   ]
  }
 ],
 "metadata": {
  "kernelspec": {
   "display_name": "Python 3 (ipykernel)",
   "language": "python",
   "name": "python3"
  },
  "language_info": {
   "codemirror_mode": {
    "name": "ipython",
    "version": 3
   },
   "file_extension": ".py",
   "mimetype": "text/x-python",
   "name": "python",
   "nbconvert_exporter": "python",
   "pygments_lexer": "ipython3",
   "version": "3.12.4"
  }
 },
 "nbformat": 4,
 "nbformat_minor": 5
}
